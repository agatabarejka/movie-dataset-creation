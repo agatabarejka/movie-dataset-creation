{
 "cells": [
  {
   "cell_type": "markdown",
   "id": "63e5c291",
   "metadata": {},
   "source": [
    "### Task #1: Scrape the infobox from Toy Story 3 wiki page (save in python dictionary)"
   ]
  },
  {
   "cell_type": "code",
   "execution_count": 1,
   "id": "fcddf9bd",
   "metadata": {},
   "outputs": [],
   "source": [
    "import bs4\n",
    "import requests"
   ]
  },
  {
   "cell_type": "markdown",
   "id": "b97d874f",
   "metadata": {},
   "source": [
    "#### Load the webpage and get the content"
   ]
  },
  {
   "cell_type": "code",
   "execution_count": 2,
   "id": "bb6ef9d7",
   "metadata": {},
   "outputs": [],
   "source": [
    "website = requests.get('https://en.wikipedia.org/wiki/Davy_Crockett_and_the_River_Pirates')\n",
    "website.status_code;"
   ]
  },
  {
   "cell_type": "code",
   "execution_count": 3,
   "id": "e35b903b",
   "metadata": {},
   "outputs": [],
   "source": [
    "soup = bs4.BeautifulSoup(website.text, 'html.parser')"
   ]
  },
  {
   "cell_type": "code",
   "execution_count": 4,
   "id": "40db7c49",
   "metadata": {},
   "outputs": [],
   "source": [
    "infobox = soup.find(class_=\"infobox vevent\")"
   ]
  },
  {
   "cell_type": "code",
   "execution_count": 5,
   "id": "c5d6c8cb",
   "metadata": {},
   "outputs": [],
   "source": [
    "infobox;"
   ]
  },
  {
   "cell_type": "markdown",
   "id": "49daee09",
   "metadata": {},
   "source": [
    "#### Scrape labels from the infobox table"
   ]
  },
  {
   "cell_type": "code",
   "execution_count": 6,
   "id": "3164983d",
   "metadata": {},
   "outputs": [
    {
     "data": {
      "text/plain": [
       "['Title',\n",
       " 'Directed by',\n",
       " 'Written by',\n",
       " 'Produced by',\n",
       " 'Starring',\n",
       " 'Edited by',\n",
       " 'Music by',\n",
       " 'Production company',\n",
       " 'Distributed by',\n",
       " 'Release date',\n",
       " 'Running time',\n",
       " 'Country',\n",
       " 'Language']"
      ]
     },
     "execution_count": 6,
     "metadata": {},
     "output_type": "execute_result"
    }
   ],
   "source": [
    "labels = infobox.find_all('th', {'class': 'infobox-label'})\n",
    "\n",
    "labels_list = [] # future keys\n",
    "\n",
    "for label in labels:\n",
    "\n",
    "    labels_list.append(label.get_text(' ', strip=True)) \n",
    "    # otherwise when we have <br/> in the label, it joins without any character\n",
    "\n",
    "labels_list.insert(0, 'Title') # adding Title, which is not in the 'infobox-label' class\n",
    "labels_list"
   ]
  },
  {
   "cell_type": "markdown",
   "id": "1f1f1db0",
   "metadata": {},
   "source": [
    "#### Scrape values from the infobox table"
   ]
  },
  {
   "cell_type": "code",
   "execution_count": 7,
   "id": "659595cc",
   "metadata": {},
   "outputs": [
    {
     "data": {
      "text/plain": [
       "['Davy Crockett and the River Pirates',\n",
       " 'Norman Foster',\n",
       " ['Tom Blackburn', 'Norman Foster'],\n",
       " 'Bill Walsh',\n",
       " ['Fess Parker', 'Buddy Ebsen', 'Jeff York'],\n",
       " 'Stanley Johnson',\n",
       " ['Thomas W. Blackburn (lyrics)',\n",
       "  'George Bruns',\n",
       "  'Edward H. Plumb (orchestration)'],\n",
       " 'Walt Disney Productions',\n",
       " 'Buena Vista Film Distribution Co., Inc.',\n",
       " 'July 18, 1956 ( 1956-07-18 )',\n",
       " '81 minutes',\n",
       " 'United States',\n",
       " 'English']"
      ]
     },
     "execution_count": 7,
     "metadata": {},
     "output_type": "execute_result"
    }
   ],
   "source": [
    "data = infobox.find_all('td', {'class' : 'infobox-data'})\n",
    "\n",
    "data_list = []\n",
    "\n",
    "for value in data:\n",
    "\n",
    "    if value.find('li'):\n",
    "        value_list = [li.get_text(' ', strip=True).replace('\\xa0', ' ') for li in value.find_all('li')]\n",
    "        data_list.append(value_list)\n",
    "        \n",
    "    elif value.find('br'):\n",
    "        # some lists have <br> instead of <li> tags\n",
    "        value_list = [text for text in value.stripped_strings]\n",
    "        data_list.append(value_list)\n",
    "        \n",
    "    else:\n",
    "        data_list.append(value.get_text(' ', strip=True).replace('\\xa0', ' '))  \n",
    "\n",
    "\n",
    "data_list.insert(0, infobox.find('th').text) # adding title to the list\n",
    "data_list"
   ]
  },
  {
   "cell_type": "markdown",
   "id": "7958a8f3",
   "metadata": {},
   "source": [
    "#### Make a label:value dictionary"
   ]
  },
  {
   "cell_type": "code",
   "execution_count": 8,
   "id": "5505a420",
   "metadata": {},
   "outputs": [],
   "source": [
    "infobox_dict = dict(zip(labels_list, data_list))"
   ]
  },
  {
   "cell_type": "code",
   "execution_count": 9,
   "id": "7d966a4c",
   "metadata": {},
   "outputs": [
    {
     "data": {
      "text/plain": [
       "{'Title': 'Davy Crockett and the River Pirates',\n",
       " 'Directed by': 'Norman Foster',\n",
       " 'Written by': ['Tom Blackburn', 'Norman Foster'],\n",
       " 'Produced by': 'Bill Walsh',\n",
       " 'Starring': ['Fess Parker', 'Buddy Ebsen', 'Jeff York'],\n",
       " 'Edited by': 'Stanley Johnson',\n",
       " 'Music by': ['Thomas W. Blackburn (lyrics)',\n",
       "  'George Bruns',\n",
       "  'Edward H. Plumb (orchestration)'],\n",
       " 'Production company': 'Walt Disney Productions',\n",
       " 'Distributed by': 'Buena Vista Film Distribution Co., Inc.',\n",
       " 'Release date': 'July 18, 1956 ( 1956-07-18 )',\n",
       " 'Running time': '81 minutes',\n",
       " 'Country': 'United States',\n",
       " 'Language': 'English'}"
      ]
     },
     "execution_count": 9,
     "metadata": {},
     "output_type": "execute_result"
    }
   ],
   "source": [
    "infobox_dict"
   ]
  },
  {
   "cell_type": "markdown",
   "id": "47f16e9b",
   "metadata": {},
   "source": [
    "### Task #2: Scrape infobox for all movies in List of Disney Films (save as list of dictionaries)"
   ]
  },
  {
   "cell_type": "markdown",
   "id": "0b7f13ae",
   "metadata": {},
   "source": [
    "#### Create a function that deletes references and additional date formats from data"
   ]
  },
  {
   "cell_type": "code",
   "execution_count": 10,
   "id": "9063ffb8",
   "metadata": {},
   "outputs": [],
   "source": [
    "def delete_references(soup_object):\n",
    "    for data in soup_object(['sup', 'span']): # sup = tag for references; span = tag for dates\n",
    "        data.decompose()"
   ]
  },
  {
   "cell_type": "markdown",
   "id": "2f8dfb3a",
   "metadata": {},
   "source": [
    "#### Create a function which loads the website and makes a dictionary from the film's infobox"
   ]
  },
  {
   "cell_type": "code",
   "execution_count": 11,
   "id": "99bd2980",
   "metadata": {},
   "outputs": [],
   "source": [
    "def get_info_box(url):\n",
    "    \n",
    "    ### loading the website ###\n",
    "    website = requests.get(url)\n",
    "    soup = bs4.BeautifulSoup(website.text, 'html.parser')\n",
    "    infobox = soup.find(class_=\"infobox vevent\")\n",
    "    \n",
    "    delete_references(soup) \n",
    "    \n",
    "    ### scraping infobox labels ####\n",
    "    labels = infobox.find_all('th', {'class': 'infobox-label'})\n",
    "    labels_list = []\n",
    "    \n",
    "    for label in labels:\n",
    "        labels_list.append(label.get_text(' ', strip=True)) \n",
    "\n",
    "    labels_list.insert(0, 'Title')\n",
    "    \n",
    "    \n",
    "    ### scraping infobox values ###\n",
    "    data = infobox.find_all('td', {'class' : 'infobox-data'})\n",
    "    data_list = []\n",
    "\n",
    "    for value in data:\n",
    "        if value.find('li'):\n",
    "            value_list = [li.get_text(' ', strip=True).replace('\\xa0', ' ') for li in value.find_all('li')]\n",
    "            data_list.append(value_list)\n",
    "            \n",
    "        elif value.find('br'):        \n",
    "            value_list = [text for text in value.stripped_strings]\n",
    "            data_list.append(value_list)\n",
    "        \n",
    "        else:\n",
    "            data_list.append(value.get_text(' ', strip=True).replace('\\xa0', ' '))    \n",
    "\n",
    "    data_list.insert(0, infobox.find('th').text)\n",
    "    \n",
    "    ### converting to a dictionary ###\n",
    "    infobox_dict = dict(zip(labels_list, data_list))\n",
    "    return infobox_dict"
   ]
  },
  {
   "cell_type": "code",
   "execution_count": 12,
   "id": "f8f89593",
   "metadata": {},
   "outputs": [
    {
     "data": {
      "text/plain": [
       "{'Title': 'Davy Crockett and the River Pirates',\n",
       " 'Directed by': 'Norman Foster',\n",
       " 'Written by': ['Tom Blackburn', 'Norman Foster'],\n",
       " 'Produced by': 'Bill Walsh',\n",
       " 'Starring': ['Fess Parker', 'Buddy Ebsen', 'Jeff York'],\n",
       " 'Edited by': 'Stanley Johnson',\n",
       " 'Music by': ['Thomas W. Blackburn (lyrics)',\n",
       "  'George Bruns',\n",
       "  'Edward H. Plumb (orchestration)'],\n",
       " 'Production company': 'Walt Disney Productions',\n",
       " 'Distributed by': 'Buena Vista Film Distribution Co., Inc.',\n",
       " 'Release date': 'July 18, 1956',\n",
       " 'Running time': '81 minutes',\n",
       " 'Country': 'United States',\n",
       " 'Language': 'English'}"
      ]
     },
     "execution_count": 12,
     "metadata": {},
     "output_type": "execute_result"
    }
   ],
   "source": [
    "get_info_box('https://en.wikipedia.org/wiki/Davy_Crockett_and_the_River_Pirates') # checking if it works for one link"
   ]
  },
  {
   "cell_type": "markdown",
   "id": "4c8e1654",
   "metadata": {},
   "source": [
    "#### Load the webpage and select all the rows with film titles and links"
   ]
  },
  {
   "cell_type": "code",
   "execution_count": 13,
   "id": "8855778b",
   "metadata": {},
   "outputs": [],
   "source": [
    "r = requests.get('https://en.wikipedia.org/wiki/List_of_Walt_Disney_Pictures_films')\n",
    "soup = bs4.BeautifulSoup(r.text, 'html.parser')"
   ]
  },
  {
   "cell_type": "code",
   "execution_count": 14,
   "id": "1a995447",
   "metadata": {},
   "outputs": [],
   "source": [
    "films = soup.select('.wikitable.sortable i a')\n",
    "films; # len == 454"
   ]
  },
  {
   "cell_type": "markdown",
   "id": "7a8b43d7",
   "metadata": {},
   "source": [
    "#### Apply get_info_box function to all films and store the output as a list of dictionaries"
   ]
  },
  {
   "cell_type": "code",
   "execution_count": 15,
   "id": "78c43944",
   "metadata": {},
   "outputs": [
    {
     "name": "stdout",
     "output_type": "stream",
     "text": [
      "'NoneType' object has no attribute 'find_all'\n",
      "True-Life Adventures\n",
      "'NoneType' object has no attribute 'find_all'\n",
      "Better Nate Than Never\n"
     ]
    }
   ],
   "source": [
    "film_info = []\n",
    "wiki_base = 'https://en.wikipedia.org/'\n",
    "\n",
    "\n",
    "for index, film in enumerate(films):\n",
    "\n",
    "#     if index % 10 ==0:\n",
    "#         print(index)\n",
    "        \n",
    "    try:\n",
    "        title = film['title']\n",
    "        link = film['href']\n",
    "        \n",
    "        film_info.append(get_info_box(wiki_base + link))\n",
    "        \n",
    "\n",
    "    except Exception as e:\n",
    "        print(e)\n",
    "        print(film.text)\n",
    "        \n",
    "# Exceptions: \n",
    "# 'True-Life Adventures' (doesn't have an infobox)\n",
    "# 'Better Nate Than Never' (doesn't have a film website)"
   ]
  },
  {
   "cell_type": "code",
   "execution_count": 16,
   "id": "8cd85402",
   "metadata": {},
   "outputs": [
    {
     "data": {
      "text/plain": [
       "452"
      ]
     },
     "execution_count": 16,
     "metadata": {},
     "output_type": "execute_result"
    }
   ],
   "source": [
    "len(film_info) # len == 452 --> only 2 have dropped out"
   ]
  },
  {
   "cell_type": "markdown",
   "id": "bdedaf70",
   "metadata": {},
   "source": [
    "#### Convert data to json file"
   ]
  },
  {
   "cell_type": "code",
   "execution_count": 17,
   "id": "2b885c17",
   "metadata": {},
   "outputs": [],
   "source": [
    "import json"
   ]
  },
  {
   "cell_type": "code",
   "execution_count": 18,
   "id": "cee9ddd0",
   "metadata": {},
   "outputs": [],
   "source": [
    "def save_data(title, data):\n",
    "    with open(title, 'w', encoding='utf-8') as f:\n",
    "        json.dump(data, f, ensure_ascii=False, indent=4)"
   ]
  },
  {
   "cell_type": "code",
   "execution_count": 19,
   "id": "0292f1de",
   "metadata": {},
   "outputs": [],
   "source": [
    "def load_data(title):\n",
    "    with open(title, encoding='utf-8') as f:\n",
    "        return json.load(f)"
   ]
  },
  {
   "cell_type": "code",
   "execution_count": 20,
   "id": "ecdfe896",
   "metadata": {},
   "outputs": [],
   "source": [
    "save_data('my_data_cleaned.json', film_info)"
   ]
  },
  {
   "cell_type": "markdown",
   "id": "54ac3be0",
   "metadata": {},
   "source": [
    "### Task #3: Data cleaning"
   ]
  },
  {
   "cell_type": "markdown",
   "id": "43932140",
   "metadata": {},
   "source": [
    "#### Convert runnng time values to integer type"
   ]
  },
  {
   "cell_type": "code",
   "execution_count": 21,
   "id": "e1e0af67",
   "metadata": {},
   "outputs": [],
   "source": [
    "# changing value to int\n",
    "def minute_to_int(running_time):\n",
    "    try:\n",
    "        if type(running_time) == str:\n",
    "            return int(running_time.split()[0])\n",
    "        else:\n",
    "            return int(running_time[0].split()[0])\n",
    "    except: # the 'Zorro' exception with value '22–24'\n",
    "        return None\n",
    "    \n",
    "    \n",
    "# creating a new key-value pair and apply to every film dictionary\n",
    "for film in film_info:\n",
    "    if 'Running time' in film.keys():\n",
    "            film['Running time (int)'] = minute_to_int(film['Running time'])\n",
    "    else:\n",
    "        film['Running time (int)'] = None"
   ]
  },
  {
   "cell_type": "code",
   "execution_count": 22,
   "id": "e0061585",
   "metadata": {},
   "outputs": [
    {
     "name": "stdout",
     "output_type": "stream",
     "text": [
      "[41, 83, 88, 126, 74, 64, 70, 42, 70, 71, 75, 94, 73, 75, 82, 68, 74, 96, 75, 84, 77, 92, 69, 81, 60, 127, 92, 76, 75, 73, 85, 81, 70, 90, 80, 75, 83, 83, 72, 97, 75, 104, 93, None, 105, 95, 97, 134, None, 69, 92, 131, 79, 97, 128, 74, 91, 105, 98, 130, 89, 93, 67, 98, 100, 118, 103, 110, 80, 79, 91, 91, 97, 118, 139, 92, 131, 87, 116, 93, 110, 110, 131, 101, 108, 84, 78, 75, 164, 106, 110, 99, 113, 108, 112, 93, 91, 93, 100, 100, 79, 96, 113, 89, 118, 92, 88, 92, 87, 93, 93, 93, 90, 83, 96, 88, 89, 91, 93, 92, 97, 100, 100, 89, 91, 112, 115, 95, 91, 95, 104, 74, 48, 77, 104, 128, 101, 94, 104, 90, 100, 88, 93, 98, 100, 112, 84, 98, 97, 114, 96, 100, 109, 83, 90, 107, 96, 103, 91, 95, 105, 113, 80, 101, 89, 74, 90, 89, 110, 74, 93, 84, 83, 74, 77, 107, 93, 88, 108, 84, 121, 89, 104, 90, 86, 84, 108, 107, 96, 98, 105, 108, 94, 106, 102, 88, 102, 102, 97, 111, 100, 96, 98, 78, 81, 108, 89, 99, 89, 81, 92, 100, 89, 79, 91, 101, 104, 103, 86, 105, 93, 92, 98, 95, 93, 87, 93, 87, 128, 86, 95, 114, 93, 83, 83, 88, 78, 112, 92, 74, 78, 72, 82, 104, 113, 100, 78, 83, 96, 115, 86, 92, 99, 73, 128, 85, 88, 125, 96, 104, 95, 72, 75, 61, 117, 94, 100, 143, 97, 85, 86, 50, 74, 136, 89, 76, 40, 120, 84, 113, 115, 131, 100, 68, 95, 97, 101, 119, 100, 76, 120, 81, 143, 118, 40, 120, 99, 82, 117, 150, 104, 76, 92, 95, 94, 167, 111, 82, 87, 110, 107, 124, 74, 83, 150, 97, 91, 100, 112, 96, 99, 85, 76, 98, 97, 99, 96, None, 90, 101, 107, 101, 96, 88, 97, 108, 104, 116, 103, 109, 115, 74, 123, 108, 100, 101, 125, None, 90, 88, 109, 89, 104, 137, 106, 63, 103, 95, 132, 77, 96, 93, 104, 87, 101, 130, 77, 104, 149, 92, 102, 125, 107, 77, 124, 97, 84, 127, 81, 102, 124, 129, 106, 82, 130, 95, 154, 97, 117, 108, 106, 98, 114, 97, 118, 103, 124, 107, 161, 80, 129, 76, 129, 102, None, 162, 105, 109, 118, 104, 99, 112, 131, 112, 76, 128, 100, 118, 119, 104, 100, 103, 114, 99, 102, 107, 78, 89, 95, 160, 85, 100, 95, 115, 113, 119, 100, 95, 107, 134, 95, 127, None, None, None, None, 96, None, None, None, None, None]\n"
     ]
    }
   ],
   "source": [
    "print([film['Running time (int)'] for film in film_info])"
   ]
  },
  {
   "cell_type": "markdown",
   "id": "0b798ea7",
   "metadata": {},
   "source": [
    "#### Convert 'Budget' and 'Box office' values to floats"
   ]
  },
  {
   "cell_type": "code",
   "execution_count": 23,
   "id": "c5b563b1",
   "metadata": {},
   "outputs": [],
   "source": [
    "[film.get('Budget', None) for film in film_info];"
   ]
  },
  {
   "cell_type": "code",
   "execution_count": 24,
   "id": "96539ab2",
   "metadata": {},
   "outputs": [],
   "source": [
    "import re\n",
    "\n",
    "### function checks if numerals are present in the value and returns them as int ###\n",
    "def multiply(budget):\n",
    "    numerals = {'million':1000000, 'thousand':1000, 'billion':1000000000}\n",
    "    multiply_by = [numeral for numeral in numerals.keys() if numeral in budget]\n",
    "        \n",
    "    if multiply_by:\n",
    "        return numerals[multiply_by[0]]\n",
    "\n",
    "### function returns a float if money pattern is present in a value ###\n",
    "def float_it(amount):\n",
    "    money = re.findall(r'\\$[0-9]+[.,]?\\d*[.,]?\\d*[.,]?\\d*', amount)\n",
    "    \n",
    "    if money:\n",
    "        numbers = [re.sub(r'\\$', '', number) for number in money]\n",
    "        # getting rid of commas to enable making a float later\n",
    "        no_commas = [re.sub(',', '', amount) for amount in numbers]\n",
    "\n",
    "        if multiply(amount):\n",
    "            final = float(no_commas[0]) * multiply(amount)\n",
    "        else:\n",
    "            final = float(no_commas[0])\n",
    "        return final\n",
    "\n",
    "### function applies conversion to both strings and lists ###\n",
    "def money_to_float(budget):\n",
    "    if type(budget)==str:\n",
    "        return float_it(budget)\n",
    "    \n",
    "    elif type(budget)==list:\n",
    "        \n",
    "        for index, instance in enumerate(budget):\n",
    "            result = float_it(instance)\n",
    "            if result: # first occurence in a list is a correct value\n",
    "                return result\n",
    "            elif result==None and index==len(budget)-1: # there was no correct budget value\n",
    "                return None\n",
    "\n",
    "    else:\n",
    "        return None"
   ]
  },
  {
   "cell_type": "code",
   "execution_count": 25,
   "id": "19dcf221",
   "metadata": {},
   "outputs": [],
   "source": [
    "### creating new keys with Budget and Box office values converted to floats ###\n",
    "for film in film_info:\n",
    "    film['Budget (float)'] = money_to_float(film.get('Budget', None))\n",
    "    film['Box office (float)'] = money_to_float(film.get('Box office', None))"
   ]
  },
  {
   "cell_type": "code",
   "execution_count": 26,
   "id": "e002b52a",
   "metadata": {},
   "outputs": [],
   "source": [
    "film_info;"
   ]
  },
  {
   "cell_type": "markdown",
   "id": "93980cc8",
   "metadata": {},
   "source": [
    "#### Convert release dates to date objects"
   ]
  },
  {
   "cell_type": "code",
   "execution_count": 27,
   "id": "18fe88d9",
   "metadata": {},
   "outputs": [],
   "source": [
    "from datetime import datetime\n",
    "\n",
    "def date_conversion(date_value):\n",
    "    if type(date_value)==list:\n",
    "        date_value = date_value[0]\n",
    "        \n",
    "    elif date_value == None:\n",
    "        return None\n",
    "    \n",
    "    cleaned = date_value.split('(')[0].strip()\n",
    "    \n",
    "    formats = ['%d %B %Y', '%B %d, %Y']\n",
    "    for pattern in formats:\n",
    "        try:\n",
    "            return datetime.strptime(cleaned, pattern)\n",
    "        except:\n",
    "            pass # date_value which has a different pattern is a missing data (eg. year only)\n",
    "    return None"
   ]
  },
  {
   "cell_type": "code",
   "execution_count": 28,
   "id": "db7b6c84",
   "metadata": {},
   "outputs": [],
   "source": [
    "for film in film_info:\n",
    "    film['Release date (datetime)'] = date_conversion(film.get('Release date', None))"
   ]
  },
  {
   "cell_type": "code",
   "execution_count": 29,
   "id": "ab33aa56",
   "metadata": {},
   "outputs": [],
   "source": [
    "### saving data with pickle since it is suitable for datatime objects ###\n",
    "import pickle\n",
    "\n",
    "def save_data_pickle(name, data):\n",
    "    with open(name, 'wb') as f:\n",
    "        pickle.dump(data, f)"
   ]
  },
  {
   "cell_type": "code",
   "execution_count": 30,
   "id": "85e1aa42",
   "metadata": {},
   "outputs": [],
   "source": [
    "def load_data_pickle(name):\n",
    "    with open(name, 'rb') as f:\n",
    "        return pickle.load(f)"
   ]
  },
  {
   "cell_type": "code",
   "execution_count": 31,
   "id": "bebf12dc",
   "metadata": {},
   "outputs": [],
   "source": [
    "save_data_pickle('disney_data_cleaned_2.pickle', film_info) \n",
    "# data with all correct types (budget, box office, release date, running time)"
   ]
  },
  {
   "cell_type": "markdown",
   "id": "a3ee441c",
   "metadata": {},
   "source": [
    "### Task #4: Attach IMDB, Metascore, and Rotten Tomatoes scores to dataset (working with APIs)"
   ]
  },
  {
   "cell_type": "code",
   "execution_count": 32,
   "id": "fd14f8ea",
   "metadata": {},
   "outputs": [],
   "source": [
    "film_info = load_data_pickle('disney_data_cleaned_2.pickle')"
   ]
  },
  {
   "cell_type": "code",
   "execution_count": 33,
   "id": "81481fcb",
   "metadata": {},
   "outputs": [],
   "source": [
    "import os"
   ]
  },
  {
   "cell_type": "code",
   "execution_count": 34,
   "id": "0a1b1a3f",
   "metadata": {},
   "outputs": [],
   "source": [
    "### function retrieves the information from OMDB base for one film ###\n",
    "def get_omdb_info(title):\n",
    "    api_key = os.environ.get('OMDB') # pass your own API key\n",
    "    full_url = f'http://www.omdbapi.com/?t={title}&apikey={api_key}'\n",
    "    return requests.get(full_url).json()"
   ]
  },
  {
   "cell_type": "code",
   "execution_count": 35,
   "id": "5d240b4a",
   "metadata": {},
   "outputs": [],
   "source": [
    "def get_rotten_tomato_score(omdb_info):\n",
    "    if omdb_info.get('Ratings', None):\n",
    "        for rating in omdb_info['Ratings']:\n",
    "            if rating['Source'] == 'Rotten Tomatoes':\n",
    "                return rating['Value']\n",
    "    return None"
   ]
  },
  {
   "cell_type": "code",
   "execution_count": 36,
   "id": "1c724199",
   "metadata": {},
   "outputs": [],
   "source": [
    "### getting rating information from OMDB for every film ####\n",
    "# be careful - you can use API for free only up to 1000 requests a day\n",
    "\n",
    "for film in film_info:\n",
    "        \n",
    "    full_info = get_omdb_info(film['Title'])\n",
    "    \n",
    "    film['rotten_tomato_score'] = get_rotten_tomato_score(full_info)\n",
    "    film['metascore'] = full_info.get('Metascore', None)\n",
    "    film['imdb_rating'] = full_info.get('imdbRating', None)"
   ]
  },
  {
   "cell_type": "code",
   "execution_count": 37,
   "id": "dc5e04c6",
   "metadata": {},
   "outputs": [],
   "source": [
    "save_data_pickle('disney_data_final.pickle', film_info)"
   ]
  },
  {
   "cell_type": "markdown",
   "id": "8bde47a5",
   "metadata": {},
   "source": [
    "### Task #5: Save final dataset as a JSON file and as a CSV file"
   ]
  },
  {
   "cell_type": "markdown",
   "id": "d8eb306a",
   "metadata": {},
   "source": [
    "#### Converting to json"
   ]
  },
  {
   "cell_type": "code",
   "execution_count": 38,
   "id": "4dd9a42d",
   "metadata": {},
   "outputs": [],
   "source": [
    "film_info_copy = [film.copy() for film in film_info]"
   ]
  },
  {
   "cell_type": "code",
   "execution_count": 39,
   "id": "52fceab1",
   "metadata": {},
   "outputs": [],
   "source": [
    "### changing datetime objects to strings to enable json format conversion\n",
    "from datetime import datetime\n",
    "\n",
    "for film in film_info_copy:\n",
    "    if film.get('Release date (datetime)', None):\n",
    "        film['Release date (datetime)'] = film['Release date (datetime)'].strftime('%B %d, %Y')"
   ]
  },
  {
   "cell_type": "code",
   "execution_count": 40,
   "id": "4a85d882",
   "metadata": {},
   "outputs": [],
   "source": [
    "save_data('disney_data_final.json', film_info_copy)"
   ]
  },
  {
   "cell_type": "markdown",
   "id": "7102914d",
   "metadata": {},
   "source": [
    "#### Converting to csv"
   ]
  },
  {
   "cell_type": "code",
   "execution_count": 41,
   "id": "59adbc73",
   "metadata": {},
   "outputs": [],
   "source": [
    "import pandas as pd"
   ]
  },
  {
   "cell_type": "code",
   "execution_count": 42,
   "id": "25c57d3b",
   "metadata": {},
   "outputs": [],
   "source": [
    "df = pd.DataFrame(film_info)"
   ]
  },
  {
   "cell_type": "code",
   "execution_count": 43,
   "id": "e804db8b",
   "metadata": {},
   "outputs": [],
   "source": [
    "column_names = list(df.columns.values)"
   ]
  },
  {
   "cell_type": "code",
   "execution_count": 44,
   "id": "8158e81e",
   "metadata": {},
   "outputs": [],
   "source": [
    "#### deleting columns if number of NaNs is > 400 ###\n",
    "for name in column_names:\n",
    "    if df[name].isna().sum()>400:\n",
    "        df.drop(name, inplace=True, axis=1)"
   ]
  },
  {
   "cell_type": "code",
   "execution_count": 45,
   "id": "73c9ff98",
   "metadata": {},
   "outputs": [
    {
     "data": {
      "text/html": [
       "<div>\n",
       "<style scoped>\n",
       "    .dataframe tbody tr th:only-of-type {\n",
       "        vertical-align: middle;\n",
       "    }\n",
       "\n",
       "    .dataframe tbody tr th {\n",
       "        vertical-align: top;\n",
       "    }\n",
       "\n",
       "    .dataframe thead th {\n",
       "        text-align: right;\n",
       "    }\n",
       "</style>\n",
       "<table border=\"1\" class=\"dataframe\">\n",
       "  <thead>\n",
       "    <tr style=\"text-align: right;\">\n",
       "      <th></th>\n",
       "      <th>Title</th>\n",
       "      <th>Production company</th>\n",
       "      <th>Release date</th>\n",
       "      <th>Running time</th>\n",
       "      <th>Country</th>\n",
       "      <th>Language</th>\n",
       "      <th>Box office</th>\n",
       "      <th>Running time (int)</th>\n",
       "      <th>Budget (float)</th>\n",
       "      <th>Box office (float)</th>\n",
       "      <th>...</th>\n",
       "      <th>Starring</th>\n",
       "      <th>Music by</th>\n",
       "      <th>Distributed by</th>\n",
       "      <th>Budget</th>\n",
       "      <th>Story by</th>\n",
       "      <th>Narrated by</th>\n",
       "      <th>Cinematography</th>\n",
       "      <th>Edited by</th>\n",
       "      <th>Screenplay by</th>\n",
       "      <th>Production companies</th>\n",
       "    </tr>\n",
       "  </thead>\n",
       "  <tbody>\n",
       "    <tr>\n",
       "      <th>0</th>\n",
       "      <td>Academy Award Review of</td>\n",
       "      <td>Walt Disney Productions</td>\n",
       "      <td>[May 19, 1937]</td>\n",
       "      <td>41 minutes (74 minutes 1966 release)</td>\n",
       "      <td>United States</td>\n",
       "      <td>English</td>\n",
       "      <td>$45.472</td>\n",
       "      <td>41.0</td>\n",
       "      <td>NaN</td>\n",
       "      <td>4.547200e+01</td>\n",
       "      <td>...</td>\n",
       "      <td>NaN</td>\n",
       "      <td>NaN</td>\n",
       "      <td>NaN</td>\n",
       "      <td>NaN</td>\n",
       "      <td>NaN</td>\n",
       "      <td>NaN</td>\n",
       "      <td>NaN</td>\n",
       "      <td>NaN</td>\n",
       "      <td>NaN</td>\n",
       "      <td>NaN</td>\n",
       "    </tr>\n",
       "    <tr>\n",
       "      <th>1</th>\n",
       "      <td>Snow White and the Seven Dwarfs</td>\n",
       "      <td>Walt Disney Productions</td>\n",
       "      <td>[December 21, 1937 ( Carthay Circle Theatre )]</td>\n",
       "      <td>83 minutes</td>\n",
       "      <td>United States</td>\n",
       "      <td>English</td>\n",
       "      <td>$418 million</td>\n",
       "      <td>83.0</td>\n",
       "      <td>1490000.0</td>\n",
       "      <td>4.180000e+08</td>\n",
       "      <td>...</td>\n",
       "      <td>[Adriana Caselotti, Lucille La Verne, Harry St...</td>\n",
       "      <td>[Frank Churchill, Paul Smith, Leigh Harline]</td>\n",
       "      <td>RKO Radio Pictures</td>\n",
       "      <td>$1.49 million</td>\n",
       "      <td>NaN</td>\n",
       "      <td>NaN</td>\n",
       "      <td>NaN</td>\n",
       "      <td>NaN</td>\n",
       "      <td>NaN</td>\n",
       "      <td>NaN</td>\n",
       "    </tr>\n",
       "    <tr>\n",
       "      <th>2</th>\n",
       "      <td>Pinocchio</td>\n",
       "      <td>Walt Disney Productions</td>\n",
       "      <td>[February 7, 1940 ( Center Theatre ), February...</td>\n",
       "      <td>88 minutes</td>\n",
       "      <td>United States</td>\n",
       "      <td>English</td>\n",
       "      <td>$164 million</td>\n",
       "      <td>88.0</td>\n",
       "      <td>2600000.0</td>\n",
       "      <td>1.640000e+08</td>\n",
       "      <td>...</td>\n",
       "      <td>[Cliff Edwards, Dickie Jones, Christian Rub, W...</td>\n",
       "      <td>[Leigh Harline, Paul J. Smith]</td>\n",
       "      <td>RKO Radio Pictures</td>\n",
       "      <td>$2.6 million</td>\n",
       "      <td>[Ted Sears, Otto Englander, Webb Smith, Willia...</td>\n",
       "      <td>NaN</td>\n",
       "      <td>NaN</td>\n",
       "      <td>NaN</td>\n",
       "      <td>NaN</td>\n",
       "      <td>NaN</td>\n",
       "    </tr>\n",
       "    <tr>\n",
       "      <th>3</th>\n",
       "      <td>Fantasia</td>\n",
       "      <td>Walt Disney Productions</td>\n",
       "      <td>[November 13, 1940]</td>\n",
       "      <td>126 minutes</td>\n",
       "      <td>United States</td>\n",
       "      <td>English</td>\n",
       "      <td>$76.4–$83.3 million (United States and Canada)</td>\n",
       "      <td>126.0</td>\n",
       "      <td>2280000.0</td>\n",
       "      <td>7.640000e+07</td>\n",
       "      <td>...</td>\n",
       "      <td>[Leopold Stokowski, Deems Taylor]</td>\n",
       "      <td>See program</td>\n",
       "      <td>RKO Radio Pictures</td>\n",
       "      <td>$2.28 million</td>\n",
       "      <td>[Joe Grant, Dick Huemer]</td>\n",
       "      <td>Deems Taylor</td>\n",
       "      <td>James Wong Howe</td>\n",
       "      <td>NaN</td>\n",
       "      <td>NaN</td>\n",
       "      <td>NaN</td>\n",
       "    </tr>\n",
       "    <tr>\n",
       "      <th>4</th>\n",
       "      <td>The Reluctant Dragon</td>\n",
       "      <td>Walt Disney Productions</td>\n",
       "      <td>[June 27, 1941]</td>\n",
       "      <td>74 minutes</td>\n",
       "      <td>United States</td>\n",
       "      <td>English</td>\n",
       "      <td>$960,000 (worldwide rentals)</td>\n",
       "      <td>74.0</td>\n",
       "      <td>600000.0</td>\n",
       "      <td>9.600000e+05</td>\n",
       "      <td>...</td>\n",
       "      <td>[Robert Benchley, Frances Gifford, Buddy Peppe...</td>\n",
       "      <td>[Frank Churchill, Larry Morey]</td>\n",
       "      <td>RKO Radio Pictures</td>\n",
       "      <td>$600,000</td>\n",
       "      <td>NaN</td>\n",
       "      <td>NaN</td>\n",
       "      <td>Bert Glennon</td>\n",
       "      <td>Paul Weatherwax</td>\n",
       "      <td>NaN</td>\n",
       "      <td>NaN</td>\n",
       "    </tr>\n",
       "  </tbody>\n",
       "</table>\n",
       "<p>5 rows × 28 columns</p>\n",
       "</div>"
      ],
      "text/plain": [
       "                             Title       Production company  \\\n",
       "0         Academy Award Review of   Walt Disney Productions   \n",
       "1  Snow White and the Seven Dwarfs  Walt Disney Productions   \n",
       "2                        Pinocchio  Walt Disney Productions   \n",
       "3                         Fantasia  Walt Disney Productions   \n",
       "4             The Reluctant Dragon  Walt Disney Productions   \n",
       "\n",
       "                                        Release date  \\\n",
       "0                                     [May 19, 1937]   \n",
       "1     [December 21, 1937 ( Carthay Circle Theatre )]   \n",
       "2  [February 7, 1940 ( Center Theatre ), February...   \n",
       "3                                [November 13, 1940]   \n",
       "4                                    [June 27, 1941]   \n",
       "\n",
       "                           Running time        Country Language  \\\n",
       "0  41 minutes (74 minutes 1966 release)  United States  English   \n",
       "1                            83 minutes  United States  English   \n",
       "2                            88 minutes  United States  English   \n",
       "3                           126 minutes  United States  English   \n",
       "4                            74 minutes  United States  English   \n",
       "\n",
       "                                       Box office  Running time (int)  \\\n",
       "0                                         $45.472                41.0   \n",
       "1                                    $418 million                83.0   \n",
       "2                                    $164 million                88.0   \n",
       "3  $76.4–$83.3 million (United States and Canada)               126.0   \n",
       "4                    $960,000 (worldwide rentals)                74.0   \n",
       "\n",
       "   Budget (float)  Box office (float)  ...  \\\n",
       "0             NaN        4.547200e+01  ...   \n",
       "1       1490000.0        4.180000e+08  ...   \n",
       "2       2600000.0        1.640000e+08  ...   \n",
       "3       2280000.0        7.640000e+07  ...   \n",
       "4        600000.0        9.600000e+05  ...   \n",
       "\n",
       "                                            Starring  \\\n",
       "0                                                NaN   \n",
       "1  [Adriana Caselotti, Lucille La Verne, Harry St...   \n",
       "2  [Cliff Edwards, Dickie Jones, Christian Rub, W...   \n",
       "3                  [Leopold Stokowski, Deems Taylor]   \n",
       "4  [Robert Benchley, Frances Gifford, Buddy Peppe...   \n",
       "\n",
       "                                       Music by      Distributed by  \\\n",
       "0                                           NaN                 NaN   \n",
       "1  [Frank Churchill, Paul Smith, Leigh Harline]  RKO Radio Pictures   \n",
       "2                [Leigh Harline, Paul J. Smith]  RKO Radio Pictures   \n",
       "3                                   See program  RKO Radio Pictures   \n",
       "4                [Frank Churchill, Larry Morey]  RKO Radio Pictures   \n",
       "\n",
       "          Budget                                           Story by  \\\n",
       "0            NaN                                                NaN   \n",
       "1  $1.49 million                                                NaN   \n",
       "2   $2.6 million  [Ted Sears, Otto Englander, Webb Smith, Willia...   \n",
       "3  $2.28 million                           [Joe Grant, Dick Huemer]   \n",
       "4       $600,000                                                NaN   \n",
       "\n",
       "    Narrated by   Cinematography        Edited by Screenplay by  \\\n",
       "0           NaN              NaN              NaN           NaN   \n",
       "1           NaN              NaN              NaN           NaN   \n",
       "2           NaN              NaN              NaN           NaN   \n",
       "3  Deems Taylor  James Wong Howe              NaN           NaN   \n",
       "4           NaN     Bert Glennon  Paul Weatherwax           NaN   \n",
       "\n",
       "  Production companies  \n",
       "0                  NaN  \n",
       "1                  NaN  \n",
       "2                  NaN  \n",
       "3                  NaN  \n",
       "4                  NaN  \n",
       "\n",
       "[5 rows x 28 columns]"
      ]
     },
     "execution_count": 45,
     "metadata": {},
     "output_type": "execute_result"
    }
   ],
   "source": [
    "df.head()"
   ]
  },
  {
   "cell_type": "code",
   "execution_count": 46,
   "id": "571ecae1",
   "metadata": {},
   "outputs": [],
   "source": [
    "df.to_csv('disney_data_final_columns_deleted.csv')"
   ]
  },
  {
   "cell_type": "code",
   "execution_count": null,
   "id": "ca3b6c2e",
   "metadata": {},
   "outputs": [],
   "source": []
  }
 ],
 "metadata": {
  "kernelspec": {
   "display_name": "Python 3",
   "language": "python",
   "name": "python3"
  },
  "language_info": {
   "codemirror_mode": {
    "name": "ipython",
    "version": 3
   },
   "file_extension": ".py",
   "mimetype": "text/x-python",
   "name": "python",
   "nbconvert_exporter": "python",
   "pygments_lexer": "ipython3",
   "version": "3.6.8"
  }
 },
 "nbformat": 4,
 "nbformat_minor": 5
}
